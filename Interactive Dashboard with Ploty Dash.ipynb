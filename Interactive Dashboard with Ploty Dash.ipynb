{
    "cells": [
        {
            "cell_type": "code",
            "execution_count": 3,
            "metadata": {},
            "outputs": [
                {
                    "name": "stdout",
                    "output_type": "stream",
                    "text": "Requirement already satisfied: pandas in /opt/conda/envs/Python-3.8-main/lib/python3.8/site-packages (1.2.4)\nCollecting dash\n  Downloading dash-2.0.0-py3-none-any.whl (7.3 MB)\n\u001b[K     |\u2588\u2588\u2588\u2588\u2588\u2588\u2588\u2588\u2588\u2588\u2588\u2588\u2588\u2588\u2588\u2588\u2588\u2588\u2588\u2588\u2588\u2588\u2588\u2588\u2588\u2588\u2588\u2588\u2588\u2588\u2588\u2588| 7.3 MB 13.3 MB/s eta 0:00:01\n\u001b[?25hRequirement already satisfied: python-dateutil>=2.7.3 in /opt/conda/envs/Python-3.8-main/lib/python3.8/site-packages (from pandas) (2.8.1)\nRequirement already satisfied: pytz>=2017.3 in /opt/conda/envs/Python-3.8-main/lib/python3.8/site-packages (from pandas) (2021.1)\nRequirement already satisfied: numpy>=1.16.5 in /opt/conda/envs/Python-3.8-main/lib/python3.8/site-packages (from pandas) (1.19.2)\nRequirement already satisfied: six>=1.5 in /opt/conda/envs/Python-3.8-main/lib/python3.8/site-packages (from python-dateutil>=2.7.3->pandas) (1.15.0)\nCollecting plotly>=5.0.0\n  Downloading plotly-5.5.0-py2.py3-none-any.whl (26.5 MB)\n\u001b[K     |\u2588\u2588\u2588\u2588\u2588\u2588\u2588\u2588\u2588\u2588\u2588\u2588\u2588\u2588\u2588\u2588\u2588\u2588\u2588\u2588\u2588\u2588\u2588\u2588\u2588\u2588\u2588\u2588\u2588\u2588\u2588\u2588| 26.5 MB 69.5 MB/s eta 0:00:01\n\u001b[?25hCollecting dash-core-components==2.0.0\n  Downloading dash_core_components-2.0.0.tar.gz (3.4 kB)\nCollecting Flask>=1.0.4\n  Downloading Flask-2.0.2-py3-none-any.whl (95 kB)\n\u001b[K     |\u2588\u2588\u2588\u2588\u2588\u2588\u2588\u2588\u2588\u2588\u2588\u2588\u2588\u2588\u2588\u2588\u2588\u2588\u2588\u2588\u2588\u2588\u2588\u2588\u2588\u2588\u2588\u2588\u2588\u2588\u2588\u2588| 95 kB 11.4 MB/s eta 0:00:01\n\u001b[?25hCollecting dash-table==5.0.0\n  Downloading dash_table-5.0.0.tar.gz (3.4 kB)\nCollecting dash-html-components==2.0.0\n  Downloading dash_html_components-2.0.0.tar.gz (3.8 kB)\nCollecting flask-compress\n  Downloading Flask_Compress-1.10.1-py3-none-any.whl (7.9 kB)\nRequirement already satisfied: Jinja2>=3.0 in /opt/conda/envs/Python-3.8-main/lib/python3.8/site-packages (from Flask>=1.0.4->dash) (3.0.0)\nRequirement already satisfied: click>=7.1.2 in /opt/conda/envs/Python-3.8-main/lib/python3.8/site-packages (from Flask>=1.0.4->dash) (7.1.2)\nCollecting itsdangerous>=2.0\n  Downloading itsdangerous-2.0.1-py3-none-any.whl (18 kB)\nRequirement already satisfied: Werkzeug>=2.0 in /opt/conda/envs/Python-3.8-main/lib/python3.8/site-packages (from Flask>=1.0.4->dash) (2.0.1)\nRequirement already satisfied: MarkupSafe>=2.0.0rc2 in /opt/conda/envs/Python-3.8-main/lib/python3.8/site-packages (from Jinja2>=3.0->Flask>=1.0.4->dash) (2.0.1)\nCollecting tenacity>=6.2.0\n  Downloading tenacity-8.0.1-py3-none-any.whl (24 kB)\nCollecting brotli\n  Downloading Brotli-1.0.9-cp38-cp38-manylinux1_x86_64.whl (357 kB)\n\u001b[K     |\u2588\u2588\u2588\u2588\u2588\u2588\u2588\u2588\u2588\u2588\u2588\u2588\u2588\u2588\u2588\u2588\u2588\u2588\u2588\u2588\u2588\u2588\u2588\u2588\u2588\u2588\u2588\u2588\u2588\u2588\u2588\u2588| 357 kB 41.7 MB/s eta 0:00:01\n\u001b[?25hBuilding wheels for collected packages: dash-core-components, dash-html-components, dash-table\n  Building wheel for dash-core-components (setup.py) ... \u001b[?25ldone\n\u001b[?25h  Created wheel for dash-core-components: filename=dash_core_components-2.0.0-py3-none-any.whl size=3804 sha256=6d3bc33bb048ffc7b8acc552ad7cc256a82bdb0a0d61f45e404fbebc98ac61ff\n  Stored in directory: /tmp/wsuser/.cache/pip/wheels/52/e4/f3/16724791571a955a46d54650510c98c04ab7d339626aee27cc\n  Building wheel for dash-html-components (setup.py) ... \u001b[?25ldone\n\u001b[?25h  Created wheel for dash-html-components: filename=dash_html_components-2.0.0-py3-none-any.whl size=4069 sha256=4e9484ad609f449132f52b259a80c01f90c631a91f6019f3f6337f80af418140\n  Stored in directory: /tmp/wsuser/.cache/pip/wheels/73/d8/8d/92f612c03c895f19bcc56a6c54be7bb41aaa698012a5624f60\n  Building wheel for dash-table (setup.py) ... \u001b[?25ldone\n\u001b[?25h  Created wheel for dash-table: filename=dash_table-5.0.0-py3-none-any.whl size=3897 sha256=7521101bda403cd064b854f2779373f62775b5b67fc05cab38964548d7fd9c8b\n  Stored in directory: /tmp/wsuser/.cache/pip/wheels/a6/fb/f5/4adf241f384634f52028f15eab6a325e77b8766a0a00816bbf\nSuccessfully built dash-core-components dash-html-components dash-table\nInstalling collected packages: itsdangerous, tenacity, Flask, brotli, plotly, flask-compress, dash-table, dash-html-components, dash-core-components, dash\n  Attempting uninstall: plotly\n    Found existing installation: plotly 4.14.3\n    Uninstalling plotly-4.14.3:\n      Successfully uninstalled plotly-4.14.3\nSuccessfully installed Flask-2.0.2 brotli-1.0.9 dash-2.0.0 dash-core-components-2.0.0 dash-html-components-2.0.0 dash-table-5.0.0 flask-compress-1.10.1 itsdangerous-2.0.1 plotly-5.5.0 tenacity-8.0.1\n"
                }
            ],
            "source": "!pip3 install pandas dash"
        },
        {
            "cell_type": "code",
            "execution_count": 4,
            "metadata": {},
            "outputs": [
                {
                    "name": "stderr",
                    "output_type": "stream",
                    "text": "/tmp/wsuser/ipykernel_154/1399112611.py:4: UserWarning: \nThe dash_html_components package is deprecated. Please replace\n`import dash_html_components as html` with `from dash import html`\n  import dash_html_components as html\n/tmp/wsuser/ipykernel_154/1399112611.py:5: UserWarning: \nThe dash_core_components package is deprecated. Please replace\n`import dash_core_components as dcc` with `from dash import dcc`\n  import dash_core_components as dcc\n"
                }
            ],
            "source": "# Import required libraries\nimport pandas as pd\nimport dash\nimport dash_html_components as html\nimport dash_core_components as dcc\nfrom dash.dependencies import Input, Output\nimport plotly.express as px"
        },
        {
            "cell_type": "code",
            "execution_count": 5,
            "metadata": {},
            "outputs": [
                {
                    "name": "stdout",
                    "output_type": "stream",
                    "text": "--2022-01-16 20:39:24--  https://cf-courses-data.s3.us.cloud-object-storage.appdomain.cloud/IBM-DS0321EN-SkillsNetwork/datasets/spacex_launch_dash.csv\nResolving cf-courses-data.s3.us.cloud-object-storage.appdomain.cloud (cf-courses-data.s3.us.cloud-object-storage.appdomain.cloud)... 198.23.119.245\nConnecting to cf-courses-data.s3.us.cloud-object-storage.appdomain.cloud (cf-courses-data.s3.us.cloud-object-storage.appdomain.cloud)|198.23.119.245|:443... connected.\nHTTP request sent, awaiting response... 200 OK\nLength: 3033 (3.0K) [text/csv]\nSaving to: \u2018spacex_launch_dash.csv\u2019\n\nspacex_launch_dash. 100%[===================>]   2.96K  --.-KB/s    in 0s      \n\n2022-01-16 20:39:24 (72.5 MB/s) - \u2018spacex_launch_dash.csv\u2019 saved [3033/3033]\n\n"
                }
            ],
            "source": "!wget \"https://cf-courses-data.s3.us.cloud-object-storage.appdomain.cloud/IBM-DS0321EN-SkillsNetwork/datasets/spacex_launch_dash.csv\""
        },
        {
            "cell_type": "code",
            "execution_count": 6,
            "metadata": {},
            "outputs": [
                {
                    "name": "stdout",
                    "output_type": "stream",
                    "text": "--2022-01-16 20:39:38--  https://cf-courses-data.s3.us.cloud-object-storage.appdomain.cloud/IBM-DS0321EN-SkillsNetwork/labs/module_3/spacex_dash_app.py\nResolving cf-courses-data.s3.us.cloud-object-storage.appdomain.cloud (cf-courses-data.s3.us.cloud-object-storage.appdomain.cloud)... 198.23.119.245\nConnecting to cf-courses-data.s3.us.cloud-object-storage.appdomain.cloud (cf-courses-data.s3.us.cloud-object-storage.appdomain.cloud)|198.23.119.245|:443... connected.\nHTTP request sent, awaiting response... 200 OK\nLength: 2110 (2.1K) [text/x-python]\nSaving to: \u2018spacex_dash_app.py\u2019\n\nspacex_dash_app.py  100%[===================>]   2.06K  --.-KB/s    in 0s      \n\n2022-01-16 20:39:38 (56.9 MB/s) - \u2018spacex_dash_app.py\u2019 saved [2110/2110]\n\n"
                }
            ],
            "source": "!wget \"https://cf-courses-data.s3.us.cloud-object-storage.appdomain.cloud/IBM-DS0321EN-SkillsNetwork/labs/module_3/spacex_dash_app.py\""
        },
        {
            "cell_type": "code",
            "execution_count": 7,
            "metadata": {},
            "outputs": [],
            "source": "# Read the airline data into pandas dataframe\nspacex_df = pd.read_csv(\"spacex_launch_dash.csv\")\nmax_payload = spacex_df['Payload Mass (kg)'].max()\nmin_payload = spacex_df['Payload Mass (kg)'].min()"
        },
        {
            "cell_type": "code",
            "execution_count": 8,
            "metadata": {},
            "outputs": [],
            "source": "# Create a dash application\napp = dash.Dash(__name__)"
        },
        {
            "cell_type": "code",
            "execution_count": null,
            "metadata": {},
            "outputs": [
                {
                    "name": "stdout",
                    "output_type": "stream",
                    "text": "Dash is running on http://127.0.0.1:8050/\n\n * Serving Flask app '__main__' (lazy loading)\n * Environment: production\n\u001b[31m   WARNING: This is a development server. Do not use it in a production deployment.\u001b[0m\n\u001b[2m   Use a production WSGI server instead.\u001b[0m\n * Debug mode: off\n"
                },
                {
                    "name": "stderr",
                    "output_type": "stream",
                    "text": " * Running on http://127.0.0.1:8050/ (Press CTRL+C to quit)\n"
                }
            ],
            "source": "# Create an app layout\napp.layout = html.Div(children=[html.H1('SpaceX Launch Records Dashboard',\n                                        style={'textAlign': 'center', 'color': '#503D36',\n                                               'font-size': 40}),\n                                # TASK 1: Add a dropdown list to enable Launch Site selection\n                                # The default select value is for ALL sites\n                                # dcc.Dropdown(id='site-dropdown',...)\n                                html.Br(),\n                                dcc.Dropdown(id = 'site-dropdown', \n                                                options =[\n                                                    {'label': 'All Sites', 'value': 'ALL'},\n                                                    {'label': 'CCAFS LC-40', 'value' : 'CCAFS LC-40'},\n                                                    {'label': 'CCAFS SLC-40', 'value' : 'CCAFS SLC-40'},\n                                                    {'label': 'KSC LC-39A', 'value' : 'KSC LC-39A'},\n                                                    {'label': 'VAFB SLC-4E', 'value' : 'VAFB SLC-4E'}], \n                                                value='ALL', \n                                                placeholder=\"Select a launch site\", \n                                                searchable= True\n                                                ),\n\n                                # TASK 2: Add a pie chart to show the total successful launches count for all sites\n                                # If a specific launch site was selected, show the Success vs. Failed counts for the site\n                                html.Div(dcc.Graph(id='success-pie-chart')),\n                                html.Br(),\n\n                                html.P(\"Payload range (Kg):\"),\n                                # TASK 3: Add a slider to select payload range\n                                #dcc.RangeSlider(id='payload-slider',...)\n                                dcc.RangeSlider(id = 'payload-slider',\n                                                min = 0, max = 10000, step = 1000,\n                                                marks = {0: '0',\n                                                         2000: '2000',\n                                                         4000: '4000',\n                                                         6000: '6000',\n                                                         8000: '8000',\n                                                         10000: '10000'\n                                                         },\n                                                value = [min_payload, max_payload]),\n                                # TASK 4: Add a scatter chart to show the correlation between payload and launch success\n                                html.Div(dcc.Graph(id='success-payload-scatter-chart')),\n                                ])\n\n# TASK 2:\n# Add a callback function for `site-dropdown` as input, `success-pie-chart` as output\n@app.callback(Output(component_id='success-pie-chart', component_property='figure'),\n              Input(component_id='site-dropdown', component_property='value'))\ndef get_pie_chart(entered_site):\n    bins = pd.get_dummies(spacex_df['Launch Site'])\n    outcome = pd.concat([bins.reset_index(drop = True), spacex_df['class'].reset_index(drop = True)], axis = 1)\n    if entered_site == 'ALL':\n        fig = px.pie(spacex_df, values='class', \n        names='Launch Site', \n        title=\"All launch site's success rate\")\n        return fig\n    else:\n        if entered_site == 'CCAFS LC-40':\n            fig = px.pie(outcome, values = 'class',\n            names = 'CCAFS LC-40',\n            title = 'CCAFS LC-40 - Success rate')\n            return fig\n        if entered_site == 'CCAFS SLC-40':\n            fig = px.pie(outcome, values = 'class',\n            names = 'CCAFS SLC-40',\n            title = 'CCAFS SLC-40 - Success rate')\n            return fig\n        if entered_site == 'KSC LC-39A':\n            fig = px.pie(outcome, values = 'class',\n            names = 'KSC LC-39A',\n            title = 'KSC LC-39A - Success rate')\n            return fig\n        else: \n            fig = px.pie(outcome, values = 'class',\n            names = 'VAFB SLC-4E',\n            title = 'VAFB SLC-4E - Success rate')\n            return fig\n# TASK 4:\n# Add a callback function for `site-dropdown` and `payload-slider` as inputs, `success-payload-scatter-chart` as output\n@app.callback(Output(component_id='success-payload-scatter-chart', component_property='figure'),\n              [Input(component_id='site-dropdown', component_property='value'),\n              Input(component_id=\"payload-slider\", component_property=\"value\")])\n\ndef get_scatter_chart(entered_site, payload_range):\n    low, high = payload_range\n    mask = (spacex_df['Payload Mass (kg)'] > low) & (spacex_df['Payload Mass (kg)'] < high)\n    spacex_df['Payload Mass (kg)'] = spacex_df['Payload Mass (kg)'].astype(int)\n    if entered_site == 'ALL':\n        fig = px.scatter(spacex_df[mask], x = 'Payload Mass (kg)' , y = 'class', color=\"Booster Version Category\", title = 'All sites')\n        return fig\n    else:\n        if entered_site == 'CCAFS LC-40':\n            fig = px.scatter(spacex_df[mask][spacex_df[mask]['Launch Site'] == 'CCAFS LC-40'], x = 'Payload Mass (kg)' , y = 'class', color=\"Booster Version Category\", title = 'CCAFS LC-40')\n            return fig\n        if entered_site == 'CCAFS SLC-40':\n            fig = px.scatter(spacex_df[mask][spacex_df[mask]['Launch Site'] == 'CCAFS SLC-40'], x =  'Payload Mass (kg)', y = 'class', color=\"Booster Version Category\" , title = 'CCAFS SLC-40')\n            return fig\n        if entered_site == 'KSC LC-39A':\n            fig = px.scatter(spacex_df[mask][spacex_df[mask]['Launch Site'] == 'KSC LC-39A'], x =  'Payload Mass (kg)', y = 'class', color=\"Booster Version Category\", title = 'KSC LC-39A')\n            return fig\n        else:\n            fig = px.scatter(spacex_df[mask][spacex_df[mask]['Launch Site'] == 'VAFB SLC-4E'], x =  'Payload Mass (kg)', y = 'class', color=\"Booster Version Category\", title = 'VAFB SLC-4E')\n            return fig\n\n# Run the app\nif __name__ == '__main__':\n    app.run_server()\n"
        }
    ],
    "metadata": {
        "kernelspec": {
            "display_name": "Python 3.8",
            "language": "python",
            "name": "python3"
        },
        "language_info": {
            "codemirror_mode": {
                "name": "ipython",
                "version": 3
            },
            "file_extension": ".py",
            "mimetype": "text/x-python",
            "name": "python",
            "nbconvert_exporter": "python",
            "pygments_lexer": "ipython3",
            "version": "3.8.12"
        }
    },
    "nbformat": 4,
    "nbformat_minor": 1
}